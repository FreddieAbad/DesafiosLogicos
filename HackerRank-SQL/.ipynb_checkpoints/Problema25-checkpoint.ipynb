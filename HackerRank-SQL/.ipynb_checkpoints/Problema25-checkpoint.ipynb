{
 "cells": [
  {
   "cell_type": "code",
   "execution_count": null,
   "metadata": {},
   "outputs": [],
   "source": [
    "#Problema 25"
   ]
  },
  {
   "cell_type": "code",
   "execution_count": null,
   "metadata": {},
   "outputs": [],
   "source": [
    "SELECT Doctor,Professor, Singer, Actor FROM \n",
    "( \n",
    "SELECT ROW_NUMBER() OVER (PARTITION BY occupation ORDER BY name) as rn,\n",
    "name, occupation FROM occupations ) \n",
    "PIVOT \n",
    "( \n",
    "MAX(name) \n",
    "FOR occupation IN ('Doctor' as Doctor ,'Professor' as Professor,\n",
    "'Singer' as Singer ,'Actor' as Actor) \n",
    ")\n",
    "ORDER BY rn;"
   ]
  }
 ],
 "metadata": {
  "kernelspec": {
   "display_name": "Python 3",
   "language": "python",
   "name": "python3"
  },
  "language_info": {
   "codemirror_mode": {
    "name": "ipython",
    "version": 3
   },
   "file_extension": ".py",
   "mimetype": "text/x-python",
   "name": "python",
   "nbconvert_exporter": "python",
   "pygments_lexer": "ipython3",
   "version": "3.7.3"
  }
 },
 "nbformat": 4,
 "nbformat_minor": 2
}
