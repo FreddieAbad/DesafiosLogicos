{
 "cells": [
  {
   "cell_type": "markdown",
   "metadata": {},
   "source": [
    "## Sock Merchant"
   ]
  },
  {
   "cell_type": "markdown",
   "metadata": {},
   "source": [
    "John works at a clothing store. He has a large pile of socks that he must pair by color for sale. Given an array of integers representing the color of each sock, determine how many pairs of socks with matching colors there are.\n",
    "\n",
    "For example, there are n=7 socks with colors ar=[1,2,1,2,1,3,2]. There is one pair of color 1 and one of color 2. There are three odd socks left, one of each color. The number of pairs is .\n",
    "\n",
    "#### Function Description\n",
    "\n",
    "Complete the sockMerchant function in the editor below. It must return an integer representing the number of matching pairs of socks that are available.\n",
    "\n",
    "sockMerchant has the following parameter(s):\n",
    "\n",
    "n: the number of socks in the pile\n",
    "ar: the colors of each sock\n",
    "\n",
    "#### Input Format\n",
    "\n",
    "The first line contains an integer n, the number of socks represented in ar. The second line contains n space-separated integers describing the colors ar[i] of the socks in the pile.\n",
    "\n",
    "\n",
    "#### Constraints\n",
    "1<= n <= 100\n",
    "1<= ar[i] <= 100 where 0<= i <n\n",
    "\n",
    "#### Output Format\n",
    "\n",
    "Return the total number of matching pairs of socks that John can sell."
   ]
  },
  {
   "cell_type": "markdown",
   "metadata": {},
   "source": [
    "#### Sample Input\n",
    "\n",
    "- n=9\n",
    "\n",
    "- str=\"10 20 20 10 10 30 50 10 20\"\n",
    "\n",
    "#### Sample Output\n",
    "- 3\n",
    "\n"
   ]
  },
  {
   "cell_type": "code",
   "execution_count": 88,
   "metadata": {},
   "outputs": [],
   "source": [
    "#!/bin/python3\n",
    "import math\n",
    "import os\n",
    "import random\n",
    "import re\n",
    "import sys\n",
    "def validacion(n, ar):\n",
    "    bandera=0\n",
    "    booleanBandera=False\n",
    "    if(n== len(ar)): \n",
    "        for i in range(0,n):\n",
    "            if(ar[i]>100 or ar[i]<1):\n",
    "                bandera=bandera+1\n",
    "            i=i+1\n",
    "        if(bandera==0):\n",
    "            booleanBandera=True\n",
    "            return booleanBandera\n",
    "        \n",
    "def socksProblem(n,ar):\n",
    "    pares=0\n",
    "    ar=sorted(ar)\n",
    "    i = 0\n",
    "    while i<n-1:\n",
    "        if ar[i]==ar[i+1]:\n",
    "            pares = pares+1\n",
    "            i+=2\n",
    "        else:\n",
    "            i+=1\n",
    "    return pares"
   ]
  },
  {
   "cell_type": "code",
   "execution_count": 94,
   "metadata": {},
   "outputs": [
    {
     "name": "stdout",
     "output_type": "stream",
     "text": [
      "1\n"
     ]
    }
   ],
   "source": [
    "n = 5  #int(input())\n",
    "ar = [1, 20, 2, 3, 20]#list(map(int, input().rstrip().split()))\n",
    "if(validacion(n, ar)):\n",
    "    valor=socksProblem(n,ar)\n",
    "    print(valor)"
   ]
  },
  {
   "cell_type": "markdown",
   "metadata": {},
   "source": [
    "# LISTO"
   ]
  },
  {
   "cell_type": "code",
   "execution_count": null,
   "metadata": {},
   "outputs": [],
   "source": []
  }
 ],
 "metadata": {
  "kernelspec": {
   "display_name": "Python 3",
   "language": "python",
   "name": "python3"
  },
  "language_info": {
   "codemirror_mode": {
    "name": "ipython",
    "version": 3
   },
   "file_extension": ".py",
   "mimetype": "text/x-python",
   "name": "python",
   "nbconvert_exporter": "python",
   "pygments_lexer": "ipython3",
   "version": "3.6.9"
  }
 },
 "nbformat": 4,
 "nbformat_minor": 2
}
