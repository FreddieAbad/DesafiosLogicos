{
 "cells": [
  {
   "cell_type": "markdown",
   "metadata": {},
   "source": [
    "# Jumping on the Clouds\n",
    "\n",
    "La siguiente solucion contempla que no abran 2 tormentas (1) consecutivas."
   ]
  },
  {
   "cell_type": "code",
   "execution_count": 41,
   "metadata": {},
   "outputs": [
    {
     "name": "stdout",
     "output_type": "stream",
     "text": [
      "8\n",
      "00010000\n",
      "4\n"
     ]
    }
   ],
   "source": [
    "import math\n",
    "import os\n",
    "import random\n",
    "import re\n",
    "import sys\n",
    "\n",
    "# Complete the jumpingOnClouds function below.\n",
    "def jumpingOnClouds(n,c):\n",
    "    respuesta=0\n",
    "    i=0\n",
    "    while(i<n-1) :\n",
    "        if(i+2 >=n or c[i]==1):\n",
    "            i+=1\n",
    "            respuesta+=1\n",
    "        else:\n",
    "            i=i+2\n",
    "            respuesta+=1\n",
    "    \n",
    "    return respuesta\n",
    "    \n",
    "def validacion(n,cc):\n",
    "    bandera=True\n",
    "    if(n<2 or n>100):\n",
    "        bandera=False\n",
    "    banderaStr=all(c in \"01\" for c in cc)\n",
    "    if(banderaStr==False):\n",
    "        bandera=False\n",
    "    if cc.startswith('0')==False or cc.endswith('0')==False:\n",
    "        bandera=False\n",
    "    if(n!=len(cc)):\n",
    "        bandera=False\n",
    "    return bandera\n",
    "        \n",
    "n = int(input())\n",
    "c = input()\n",
    "c=c.replace(\" \", \"\")\n",
    "\n",
    "if(validacion(n,c)):\n",
    "    cc=list(map(int,c))\n",
    "    #print(cc)\n",
    "    res=jumpingOnClouds(n,cc)\n",
    "    print(res)\n"
   ]
  },
  {
   "cell_type": "markdown",
   "metadata": {},
   "source": [
    "# Listo"
   ]
  },
  {
   "cell_type": "code",
   "execution_count": null,
   "metadata": {},
   "outputs": [],
   "source": []
  }
 ],
 "metadata": {
  "kernelspec": {
   "display_name": "Python 3",
   "language": "python",
   "name": "python3"
  },
  "language_info": {
   "codemirror_mode": {
    "name": "ipython",
    "version": 3
   },
   "file_extension": ".py",
   "mimetype": "text/x-python",
   "name": "python",
   "nbconvert_exporter": "python",
   "pygments_lexer": "ipython3",
   "version": "3.7.3"
  }
 },
 "nbformat": 4,
 "nbformat_minor": 2
}
