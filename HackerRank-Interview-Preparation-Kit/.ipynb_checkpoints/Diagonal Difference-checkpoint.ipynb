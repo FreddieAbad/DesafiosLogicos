{
 "cells": [
  {
   "cell_type": "markdown",
   "metadata": {},
   "source": [
    "# Diagonal Difference"
   ]
  },
  {
   "cell_type": "code",
   "execution_count": 6,
   "metadata": {},
   "outputs": [
    {
     "name": "stdout",
     "output_type": "stream",
     "text": [
      "4\n",
      "1\n"
     ]
    }
   ],
   "source": [
    "#!/bin/python3\n",
    "\n",
    "import math\n",
    "import os\n",
    "import random\n",
    "import re\n",
    "import sys\n",
    "\n",
    "#\n",
    "# Complete the 'diagonalDifference' function below.\n",
    "#\n",
    "# The function is expected to return an INTEGER.\n",
    "# The function accepts 2D_INTEGER_ARRAY arr as parameter.\n",
    "#\n",
    "\n",
    "def diagonalDifference(n,arr):\n",
    "    sumdiag1=0\n",
    "    sumdiag2=0\n",
    "    for i in range(0,len(arr),n+1):\n",
    "        sumdiag1+=arr[i]\n",
    "    cont=0\n",
    "    for j in range(n-1,len(arr),n-1):\n",
    "        if(cont!=n):\n",
    "            sumdiag2+=arr[j]\n",
    "            cont+=1\n",
    "        else:\n",
    "            break\n",
    "    return abs(sumdiag1-sumdiag2)\n",
    "\n",
    "n = int(input().strip())\n",
    "arr=[]\n",
    "\"\"\"for _ in range(n):\n",
    "    entrada=input().split()\n",
    "    for i in entrada:\n",
    "        arr.append(int(i))\"\"\"\n",
    "arr=[-1, 1, -7, -8,-10, -8, -5, -2,0, 9, 7, -1,4, 4, -2, 1]\n",
    "result = diagonalDifference(n,arr)\n",
    "\n",
    "print(result)\n"
   ]
  },
  {
   "cell_type": "code",
   "execution_count": null,
   "metadata": {},
   "outputs": [],
   "source": []
  }
 ],
 "metadata": {
  "kernelspec": {
   "display_name": "Python 3",
   "language": "python",
   "name": "python3"
  },
  "language_info": {
   "codemirror_mode": {
    "name": "ipython",
    "version": 3
   },
   "file_extension": ".py",
   "mimetype": "text/x-python",
   "name": "python",
   "nbconvert_exporter": "python",
   "pygments_lexer": "ipython3",
   "version": "3.7.3"
  }
 },
 "nbformat": 4,
 "nbformat_minor": 2
}
