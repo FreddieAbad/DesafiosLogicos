{
 "cells": [
  {
   "cell_type": "markdown",
   "metadata": {},
   "source": [
    "# New Year Chaos\n",
    "\n"
   ]
  },
  {
   "cell_type": "code",
   "execution_count": 4,
   "metadata": {},
   "outputs": [
    {
     "name": "stdout",
     "output_type": "stream",
     "text": [
      "4\n",
      "2\n",
      "2 1 5 3 4\n",
      "3\n",
      "3\n",
      "2 1 5 3 4\n",
      "3\n",
      "4\n",
      "2 1 5 3 4\n",
      "3\n",
      "5\n",
      "2 1 5 3 4\n",
      "3\n"
     ]
    }
   ],
   "source": [
    "import math\n",
    "import os\n",
    "import random\n",
    "import re\n",
    "import sys\n",
    "\n",
    "def minimumBribes(q):\n",
    "    moves = 0\n",
    "    for pos, val in enumerate(q):\n",
    "        if (val-1) - pos > 2:\n",
    "            return \"Too chaotic\"\n",
    "        for j in range(max(0,val-2), pos):\n",
    "            if q[j] > val:\n",
    "                moves+=1\n",
    "    return moves\n",
    "\n",
    "if __name__ == '__main__':\n",
    "    t = int(input())\n",
    "\n",
    "    for t_itr in range(t):\n",
    "        n = int(input())\n",
    "        q = list(map(int, input().rstrip().split()))\n",
    "        print(minimumBribes(q))\n"
   ]
  },
  {
   "cell_type": "code",
   "execution_count": null,
   "metadata": {},
   "outputs": [],
   "source": []
  }
 ],
 "metadata": {
  "kernelspec": {
   "display_name": "Python 3",
   "language": "python",
   "name": "python3"
  },
  "language_info": {
   "codemirror_mode": {
    "name": "ipython",
    "version": 3
   },
   "file_extension": ".py",
   "mimetype": "text/x-python",
   "name": "python",
   "nbconvert_exporter": "python",
   "pygments_lexer": "ipython3",
   "version": "3.7.3"
  }
 },
 "nbformat": 4,
 "nbformat_minor": 2
}
