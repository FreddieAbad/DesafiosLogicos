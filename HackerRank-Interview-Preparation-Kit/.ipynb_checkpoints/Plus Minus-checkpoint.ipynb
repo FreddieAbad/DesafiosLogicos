{
 "cells": [
  {
   "cell_type": "markdown",
   "metadata": {},
   "source": [
    "# Plus Minus\n",
    "\n"
   ]
  },
  {
   "cell_type": "code",
   "execution_count": 1,
   "metadata": {},
   "outputs": [
    {
     "name": "stdout",
     "output_type": "stream",
     "text": [
      "6\n",
      "-4 3 -9 0 4 1\n",
      "0.5\n",
      "0.333333\n",
      "0.166667\n"
     ]
    }
   ],
   "source": [
    "import math\n",
    "import os\n",
    "import random\n",
    "import re\n",
    "import sys\n",
    "\n",
    "def plusMinus(n,arr):\n",
    "    count0=countP=countN=0\n",
    "    for i in arr:\n",
    "        if i==0:\n",
    "            count0+=1\n",
    "        if i>0:\n",
    "            countP+=1\n",
    "        if i<0:\n",
    "            countN+=1\n",
    "    answer0 = str(round(count0/n, n))\n",
    "    answerP = str(round(countP/n, n))\n",
    "    answerN = str(round(countN/n, n))\n",
    "\n",
    "    print(answerP)\n",
    "    print(answerN)\n",
    "    print(answer0)\n",
    "        \n",
    "n = int(input())\n",
    "arr = list(map(int, input().rstrip().split()))\n",
    "plusMinus(n,arr)\n"
   ]
  },
  {
   "cell_type": "code",
   "execution_count": null,
   "metadata": {},
   "outputs": [],
   "source": []
  }
 ],
 "metadata": {
  "kernelspec": {
   "display_name": "Python 3",
   "language": "python",
   "name": "python3"
  },
  "language_info": {
   "codemirror_mode": {
    "name": "ipython",
    "version": 3
   },
   "file_extension": ".py",
   "mimetype": "text/x-python",
   "name": "python",
   "nbconvert_exporter": "python",
   "pygments_lexer": "ipython3",
   "version": "3.7.3"
  }
 },
 "nbformat": 4,
 "nbformat_minor": 2
}
