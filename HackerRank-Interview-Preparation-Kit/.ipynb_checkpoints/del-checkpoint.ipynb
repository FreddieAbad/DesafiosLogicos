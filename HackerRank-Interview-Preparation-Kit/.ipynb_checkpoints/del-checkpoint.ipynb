{
 "cells": [
  {
   "cell_type": "markdown",
   "metadata": {},
   "source": [
    "# Repeated String\n"
   ]
  },
  {
   "cell_type": "code",
   "execution_count": null,
   "metadata": {},
   "outputs": [],
   "source": [
    "#!/bin/python3\n",
    "\n",
    "import math\n",
    "import os\n",
    "import random\n",
    "import re\n",
    "import sys\n",
    "def validacion(n,s):\n",
    "    bandera=True\n",
    "    if(len(s)<1 or len(s)>100):\n",
    "        bandera=False\n",
    "    if(n<1 or n>10**12 +1):\n",
    "        bandera=False\n",
    "    return bandera\n",
    "\n",
    "def repeatedString(s, n):\n",
    "    if(n>10**6):\n",
    "        count_string = s.count('a')\n",
    "        count_substring = s[0:n%len(s)].count('a')\n",
    "        return count_string * round(n/len(s)) + count_substring\n",
    "    if(n>len(s)):\n",
    "        residuo=n%len(s)\n",
    "        resultado=round(n/len(s))\n",
    "        strfinal=''\n",
    "        for i in range(0,resultado):\n",
    "            strfinal=strfinal+s\n",
    "        if(residuo>0):\n",
    "            strfinal=strfinal+s[0:residuo]\n",
    "        count = strfinal.count('a')\n",
    "        return count\n",
    "   \n",
    "        \n",
    "s = input()\n",
    "n = int(input())\n",
    "\n",
    "res=validacion(n,s)\n",
    "result = repeatedString(s, n)\n",
    "print(result)\n",
    "\n"
   ]
  },
  {
   "cell_type": "code",
   "execution_count": null,
   "metadata": {},
   "outputs": [],
   "source": []
  },
  {
   "cell_type": "code",
   "execution_count": null,
   "metadata": {},
   "outputs": [],
   "source": []
  }
 ],
 "metadata": {
  "kernelspec": {
   "display_name": "Python 3",
   "language": "python",
   "name": "python3"
  },
  "language_info": {
   "codemirror_mode": {
    "name": "ipython",
    "version": 3
   },
   "file_extension": ".py",
   "mimetype": "text/x-python",
   "name": "python",
   "nbconvert_exporter": "python",
   "pygments_lexer": "ipython3",
   "version": "3.7.3"
  }
 },
 "nbformat": 4,
 "nbformat_minor": 2
}
