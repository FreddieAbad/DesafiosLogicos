{
 "cells": [
  {
   "cell_type": "code",
   "execution_count": null,
   "metadata": {},
   "outputs": [],
   "source": []
  },
  {
   "cell_type": "markdown",
   "metadata": {},
   "source": [
    "# Problema 1 - Binary Gap\n",
    "## Ingles\n",
    "A *binary gap* within a positive integer N is any maximal sequence of consecutive zeros that is surrounded by ones at both ends in the binary representation of N.\n",
    "\n",
    "For example, number 9 has binary representation 1001 and contains a binary gap of length 2. The number 529 has binary representation 1000010001 and contains two binary gaps: one of length 4 and one of length 3. The number 20 has binary representation 10100 and contains one binary gap of length 1. The number 15 has binary representation 1111 and has no binary gaps. The number 32 has binary representation 100000 and has no binary gaps.\n",
    "\n",
    "Write a function:\n",
    "\n",
    "    def solution(N)\n",
    "\n",
    "that, given a positive integer N, returns the length of its longest binary gap. The function should return 0 if N doesn't contain a binary gap.\n",
    "\n",
    "For example, given N = 1041 the function should return 5, because N has binary representation 10000010001 and so its longest binary gap is of length 5. Given N = 32 the function should return 0, because N has binary representation '100000' and thus no binary gaps.\n",
    "\n",
    "Write an efficient algorithm for the following assumptions:\n",
    "\n",
    "- N is an integer within the range [1..2,147,483,647].\n",
    "## Español\n",
    "\n",
    "Un *espacio binario* dentro de un entero positivo N es cualquier secuencia máxima de ceros consecutivos rodeada por unos en ambos extremos en la representación binaria de N.\n",
    "\n",
    "Por ejemplo, el número 9 tiene representación binaria 1001 y contiene un espacio binario de longitud 2. El número 529 tiene representación binaria 1000010001 y contiene dos espacios binarios: uno de longitud 4 y uno de longitud 3. El número 20 tiene representación binaria 10100 y contiene un espacio binario de longitud 1. El número 15 tiene representación binaria 1111 y no tiene espacios binarios. El número 32 tiene representación binaria 100000 y no tiene espacios binarios.\n",
    "\n",
    "Escribe una función:\n",
    "\n",
    "    def solución (N)\n",
    "\n",
    "que, dado un entero positivo N, devuelve la longitud de su espacio binario más largo. La función debería devolver 0 si N no contiene un espacio binario.\n",
    "\n",
    "Por ejemplo, dado N = 1041, la función debe devolver 5, porque N tiene representación binaria 10000010001 y, por lo tanto, su espacio binario más largo es de longitud 5. Dado N = 32, la función debe devolver 0, porque N tiene representación binaria '100000' y, por lo tanto, sin espacios binarios.\n",
    "\n",
    "Escriba un algoritmo eficiente para las siguientes suposiciones:\n",
    "\n",
    "- N es un número entero dentro del rango [ 1 .. 2,147,483,647 ]."
   ]
  },
  {
   "cell_type": "markdown",
   "metadata": {},
   "source": [
    "# Entendiendo el problema\n",
    "\n",
    "El problema plantea encontrar una forma eficiente de encontrar el mayor numero de  0 consecutivos de un numero binario que, estos 0s consecutivos tienen la restriccion de estar limitados entre 1s. \n",
    "Asi si \n",
    "- Un numero decimal 1041, correspondiente a uno binario 10000010001 tiene los espacios binarios [5, 3], el resultado es el mayor espacio binario (5)\n",
    "- Un numero decimal 32, correspondiente a uno binario 100000 no tiene espacios binarios, el resultado es cero ya que aunque hay 0s consecutivos no estan limitados por 1.\n",
    "\n",
    "# Entendiendo la Solucion\n",
    "\n",
    "La solucion de este problema se resume en realizar los siguientes pasos:\n",
    "- 1. Convertir el numero decimal en un numero binario\n",
    "- 2. Encontrar las posiciones donde se encuentre 1 en el numero binario con formato string \n",
    "- 3. Encontrar las diferencias entre todas las posiciones encontradas en el paso anterior\n",
    "- 4. Encontrar la maximo diferencia de la lista de diferencias del paso 3.\n",
    "- 5. **LISTO**\n",
    "\n",
    "**Importante**: Se debe preveer todos los casos posibles, esto quiere decir, si el numero binario es 0, si la lista de diferencias tiene una sola diferencia, o no tiene diferencias, dado esto el maximo sera 0.\n",
    "Si no se trata estos casos posibles, se obtiene una calificacion de alrededor del 60-80%, tomando en cuenta los casos posibles se obtiene una calificacion del 100%."
   ]
  },
  {
   "cell_type": "markdown",
   "metadata": {},
   "source": [
    "# Solucion"
   ]
  },
  {
   "cell_type": "code",
   "execution_count": 6,
   "metadata": {},
   "outputs": [
    {
     "name": "stdout",
     "output_type": "stream",
     "text": [
      "1041   10000010001  Dif:  5\n",
      "32   100000  Dif:  0\n"
     ]
    }
   ],
   "source": [
    "def funcionbynarygap(N):\n",
    "    max_dif=0\n",
    "    n_str=bin(N)\n",
    "    n_str=n_str[2:]\n",
    "    diferencias=[x for x, v in enumerate(n_str) if v == '1']\n",
    "    if not diferencias:\n",
    "        max_dif=0\n",
    "    if(len(diferencias)==1):\n",
    "        if(diferencias[0]==0):\n",
    "            max_dif=0\n",
    "        else:\n",
    "            max_dif=diferencias[0]-1\n",
    "    if(len(diferencias)>1):\n",
    "        maximos=[]\n",
    "        for i in range(len(diferencias)):\n",
    "            if(i!=len(diferencias) and i!=len(diferencias)-1):\n",
    "                maximos.append(abs(diferencias[i]-diferencias[i+1]))\n",
    "        if not maximos:\n",
    "            max_dif=0\n",
    "        else:\n",
    "            max_dif=max(maximos)-1\n",
    "    return max_dif\n",
    "\n",
    "\n",
    "N=funcionbynarygap(1041)\n",
    "print(1041,' ', str(bin(1041))[2:],' Dif: ',N)\n",
    "\n",
    "N=funcionbynarygap(32)\n",
    "print(32,' ', str(bin(32))[2:],' Dif: ',N)\n",
    "\n"
   ]
  },
  {
   "cell_type": "code",
   "execution_count": null,
   "metadata": {},
   "outputs": [],
   "source": []
  },
  {
   "cell_type": "code",
   "execution_count": null,
   "metadata": {},
   "outputs": [],
   "source": []
  },
  {
   "cell_type": "code",
   "execution_count": null,
   "metadata": {},
   "outputs": [],
   "source": []
  }
 ],
 "metadata": {
  "kernelspec": {
   "display_name": "Python 3",
   "language": "python",
   "name": "python3"
  },
  "language_info": {
   "codemirror_mode": {
    "name": "ipython",
    "version": 3
   },
   "file_extension": ".py",
   "mimetype": "text/x-python",
   "name": "python",
   "nbconvert_exporter": "python",
   "pygments_lexer": "ipython3",
   "version": "3.7.7"
  }
 },
 "nbformat": 4,
 "nbformat_minor": 4
}
