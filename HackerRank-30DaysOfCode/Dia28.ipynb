{
 "cells": [
  {
   "cell_type": "markdown",
   "metadata": {},
   "source": [
    "# Dia 28 RegEx, Patterns, and Intro to Databases"
   ]
  },
  {
   "cell_type": "code",
   "execution_count": 9,
   "metadata": {},
   "outputs": [
    {
     "name": "stdout",
     "output_type": "stream",
     "text": [
      "5\n",
      "afds fasdf@gmail.com\n",
      "afds fasdf@ymail.com\n",
      "gdfafds fasdf@gmail.com\n",
      "iuyafds fasdf@gmail.com\n",
      "mafds fasdf@gmail.com\n",
      "afds\n",
      "gdfafds\n",
      "iuyafds\n",
      "mafds\n"
     ]
    }
   ],
   "source": [
    "import sys\n",
    "import re\n",
    "\n",
    "N = int(input())\n",
    "names = []\n",
    "for a0 in range(N):\n",
    "    firstName,emailID = input().strip().split(' ')\n",
    "    firstName,emailID = [str(firstName),str(emailID)]\n",
    "    if re.search(r\"@gmail\\.com$\", emailID):\n",
    "        names.append(firstName)\n",
    "\n",
    "names.sort()\n",
    "for name in names:\n",
    "    print(name)"
   ]
  },
  {
   "cell_type": "code",
   "execution_count": null,
   "metadata": {},
   "outputs": [],
   "source": []
  }
 ],
 "metadata": {
  "kernelspec": {
   "display_name": "Python 3",
   "language": "python",
   "name": "python3"
  },
  "language_info": {
   "codemirror_mode": {
    "name": "ipython",
    "version": 3
   },
   "file_extension": ".py",
   "mimetype": "text/x-python",
   "name": "python",
   "nbconvert_exporter": "python",
   "pygments_lexer": "ipython3",
   "version": "3.7.3"
  }
 },
 "nbformat": 4,
 "nbformat_minor": 2
}
