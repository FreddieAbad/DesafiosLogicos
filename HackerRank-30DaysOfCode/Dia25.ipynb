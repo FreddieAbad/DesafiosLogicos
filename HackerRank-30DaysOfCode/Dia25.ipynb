{
 "cells": [
  {
   "cell_type": "markdown",
   "metadata": {},
   "source": [
    "# Dia 25"
   ]
  },
  {
   "cell_type": "code",
   "execution_count": 1,
   "metadata": {},
   "outputs": [
    {
     "name": "stdout",
     "output_type": "stream",
     "text": [
      "3\n",
      "5\n",
      "Prime\n",
      "6\n",
      "Not prime\n",
      "7\n",
      "Prime\n"
     ]
    }
   ],
   "source": [
    "def isPrime(n) : \n",
    "    if (n <= 1) : \n",
    "        return False\n",
    "    if (n <= 3) : \n",
    "        return True\n",
    "    if (n % 2 == 0 or n % 3 == 0) : \n",
    "        return False\n",
    "    i = 5\n",
    "    while(i * i <= n) : \n",
    "        if (n % i == 0 or n % (i + 2) == 0) : \n",
    "            return False\n",
    "        i = i + 6\n",
    "    return True\n",
    "\n",
    "n=int(input())\n",
    "for i in range(0,n):\n",
    "    testCase=int(input())\n",
    "    if(isPrime(testCase)):\n",
    "        print(\"Prime\")\n",
    "    else:\n",
    "        print(\"Not prime\")"
   ]
  },
  {
   "cell_type": "code",
   "execution_count": null,
   "metadata": {},
   "outputs": [],
   "source": []
  }
 ],
 "metadata": {
  "kernelspec": {
   "display_name": "Python 3",
   "language": "python",
   "name": "python3"
  },
  "language_info": {
   "codemirror_mode": {
    "name": "ipython",
    "version": 3
   },
   "file_extension": ".py",
   "mimetype": "text/x-python",
   "name": "python",
   "nbconvert_exporter": "python",
   "pygments_lexer": "ipython3",
   "version": "3.7.3"
  }
 },
 "nbformat": 4,
 "nbformat_minor": 2
}
