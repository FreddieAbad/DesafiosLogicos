{
 "cells": [
  {
   "cell_type": "markdown",
   "metadata": {},
   "source": [
    "# Dia 26"
   ]
  },
  {
   "cell_type": "code",
   "execution_count": 27,
   "metadata": {},
   "outputs": [
    {
     "name": "stdout",
     "output_type": "stream",
     "text": [
      "1 1 1 \n",
      " 8 8 8\n",
      "0\n"
     ]
    }
   ],
   "source": [
    "from datetime import date\n",
    "import datetime\n",
    "\"\"\"\n",
    "m dia de entrega\n",
    "n dia de plazo maximo\n",
    "\"\"\"\n",
    "m=input()\n",
    "n=input()\n",
    "n=n.split()\n",
    "m=m.split()\n",
    "n = [int(i) for i in n]\n",
    "m = [int(i) for i in m]\n",
    "ano=int(n[2]-m[2])\n",
    "mes=int(n[1]-m[1])\n",
    "dia=int(n[0]-m[0])\n",
    "#print(dia, mes, ano)\n",
    "if(ano==0 and mes==0 and dia==0):\n",
    "    print(0)\n",
    "if(ano==0 and mes!=0 and mes>0):\n",
    "    print(0)\n",
    "if(ano>0 and mes!=0 and mes<0):\n",
    "    print(0)\n",
    "if(ano>0 and mes>0):\n",
    "    print(0)\n",
    "if(ano==0 and mes==0):\n",
    "    d0 = date(n[2], n[1], n[0])\n",
    "    d1 = date(m[2], m[1], m[0])\n",
    "    delta = d1 - d0\n",
    "    print(15*abs(delta.days))\n",
    "if(ano==0 and mes!=0 and mes<0):\n",
    "    print(500*abs(mes))\n",
    "if(ano<0):\n",
    "    print(10000)\n",
    "\n",
    "\n"
   ]
  },
  {
   "cell_type": "code",
   "execution_count": null,
   "metadata": {},
   "outputs": [],
   "source": [
    "24 12 1898\n",
    "18 9 1898\n",
    "48500"
   ]
  }
 ],
 "metadata": {
  "kernelspec": {
   "display_name": "Python 3",
   "language": "python",
   "name": "python3"
  },
  "language_info": {
   "codemirror_mode": {
    "name": "ipython",
    "version": 3
   },
   "file_extension": ".py",
   "mimetype": "text/x-python",
   "name": "python",
   "nbconvert_exporter": "python",
   "pygments_lexer": "ipython3",
   "version": "3.7.3"
  }
 },
 "nbformat": 4,
 "nbformat_minor": 2
}
