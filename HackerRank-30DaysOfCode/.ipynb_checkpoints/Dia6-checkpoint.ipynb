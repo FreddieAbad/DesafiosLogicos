{
 "cells": [
  {
   "cell_type": "code",
   "execution_count": 2,
   "metadata": {},
   "outputs": [
    {
     "name": "stdout",
     "output_type": "stream",
     "text": [
      "2\n",
      "hacker\n",
      "rank\n",
      "hce akr\n",
      "rn ak\n"
     ]
    }
   ],
   "source": [
    "def imprimir(palabra):\n",
    "    pares=[]\n",
    "    impares=[]\n",
    "    for i in range(0,len(palabra)):\n",
    "        if(i%2==0):\n",
    "            pares.append(palabra[i])\n",
    "        else:\n",
    "            impares.append(palabra[i])\n",
    "    print(''.join(pares) + ' '+''.join(impares))\n",
    "    \n",
    "n=int(input())\n",
    "\n",
    "if(n>1 or n<10):\n",
    "    strings=[]\n",
    "    for i in range(0,n):\n",
    "        stringsUC=input()\n",
    "        if(len(stringsUC)>=2 or len(stringsUC)<=10000):\n",
    "            strings.append(stringsUC)\n",
    "    for i in range(0,len(strings)):\n",
    "        imprimir(strings[i])\n",
    "\n",
    "\n",
    "    "
   ]
  },
  {
   "cell_type": "code",
   "execution_count": null,
   "metadata": {},
   "outputs": [],
   "source": []
  }
 ],
 "metadata": {
  "kernelspec": {
   "display_name": "Python 3",
   "language": "python",
   "name": "python3"
  },
  "language_info": {
   "codemirror_mode": {
    "name": "ipython",
    "version": 3
   },
   "file_extension": ".py",
   "mimetype": "text/x-python",
   "name": "python",
   "nbconvert_exporter": "python",
   "pygments_lexer": "ipython3",
   "version": "3.7.3"
  }
 },
 "nbformat": 4,
 "nbformat_minor": 2
}
