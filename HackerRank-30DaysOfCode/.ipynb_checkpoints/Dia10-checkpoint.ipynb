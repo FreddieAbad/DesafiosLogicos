{
 "cells": [
  {
   "cell_type": "code",
   "execution_count": 21,
   "metadata": {},
   "outputs": [
    {
     "name": "stdout",
     "output_type": "stream",
     "text": [
      "10\n",
      "[1, 0, 1, 0]\n",
      "1\n"
     ]
    }
   ],
   "source": [
    "n=int(input())\n",
    "res = [int(i) for i in list('{0:0b}'.format(n))] \n",
    "maximo=0\n",
    "count=0\n",
    "#print(res)\n",
    "for i in res:\n",
    "    if(i==1):\n",
    "        count+=1\n",
    "    else:\n",
    "        if(count>maximo):\n",
    "            maximo=count\n",
    "        count=0\n",
    "if(count>maximo):\n",
    "    maximo=count\n",
    "    \n",
    "print(maximo)"
   ]
  },
  {
   "cell_type": "code",
   "execution_count": null,
   "metadata": {},
   "outputs": [],
   "source": []
  },
  {
   "cell_type": "code",
   "execution_count": null,
   "metadata": {},
   "outputs": [],
   "source": []
  }
 ],
 "metadata": {
  "kernelspec": {
   "display_name": "Python 3",
   "language": "python",
   "name": "python3"
  },
  "language_info": {
   "codemirror_mode": {
    "name": "ipython",
    "version": 3
   },
   "file_extension": ".py",
   "mimetype": "text/x-python",
   "name": "python",
   "nbconvert_exporter": "python",
   "pygments_lexer": "ipython3",
   "version": "3.6.9"
  }
 },
 "nbformat": 4,
 "nbformat_minor": 2
}
