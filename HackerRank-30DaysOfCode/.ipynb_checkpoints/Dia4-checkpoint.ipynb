{
 "cells": [
  {
   "cell_type": "markdown",
   "metadata": {},
   "source": [
    "# Dia 4"
   ]
  },
  {
   "cell_type": "code",
   "execution_count": null,
   "metadata": {},
   "outputs": [],
   "source": [
    "class Person:\n",
    "    def __init__(self,initialAge):\n",
    "        self.initialAge=initialAge\n",
    "        if(self.initialAge<=-5 or self.initialAge<=30):\n",
    "            if(self.initialAge<0):\n",
    "                self.initialAge=0\n",
    "                print('Age is not valid, setting age to 0.')\n",
    "    def amIOld(self):\n",
    "        if(self.initialAge<13):\n",
    "            print('You are young.')\n",
    "        if(self.initialAge>=13 and self.initialAge<18):\n",
    "            print('You are a teenager.')\n",
    "        if(self.initialAge>=18):\n",
    "            print('You are old.')\n",
    "    def yearPasses(self):\n",
    "        self.initialAge=self.initialAge+1\n",
    "\n",
    "t = int(input())\n",
    "for i in range(0, t):\n",
    "    age = int(input())         \n",
    "    p = Person(age)  \n",
    "    p.amIOld()\n",
    "    for j in range(0, 3):\n",
    "        p.yearPasses()       \n",
    "    p.amIOld()\n",
    "    print(\"\")"
   ]
  }
 ],
 "metadata": {
  "kernelspec": {
   "display_name": "Python 3",
   "language": "python",
   "name": "python3"
  },
  "language_info": {
   "codemirror_mode": {
    "name": "ipython",
    "version": 3
   },
   "file_extension": ".py",
   "mimetype": "text/x-python",
   "name": "python",
   "nbconvert_exporter": "python",
   "pygments_lexer": "ipython3",
   "version": "3.6.9"
  }
 },
 "nbformat": 4,
 "nbformat_minor": 2
}
