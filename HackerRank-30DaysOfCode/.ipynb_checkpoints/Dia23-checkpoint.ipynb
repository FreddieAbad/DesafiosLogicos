{
 "cells": [
  {
   "cell_type": "markdown",
   "metadata": {},
   "source": [
    "# Dia 23"
   ]
  },
  {
   "cell_type": "code",
   "execution_count": 1,
   "metadata": {},
   "outputs": [
    {
     "name": "stdout",
     "output_type": "stream",
     "text": [
      "7\n",
      "1\n",
      "2 \n",
      "3\n",
      "5\n",
      "6\n",
      "9\n",
      "8\n",
      "1 2 3 5 6 9 8 "
     ]
    }
   ],
   "source": [
    "import sys\n",
    "\n",
    "class Node:\n",
    "    def __init__(self,data):\n",
    "        self.right=self.left=None\n",
    "        self.data = data\n",
    "class Solution:\n",
    "    def insert(self,root,data):\n",
    "        if root==None:\n",
    "            return Node(data)\n",
    "        else:\n",
    "            if data<=root.data:\n",
    "                cur=self.insert(root.left,data)\n",
    "                root.left=cur\n",
    "            else:\n",
    "                cur=self.insert(root.right,data)\n",
    "                root.right=cur\n",
    "        return root\n",
    "\n",
    "    def levelOrder(self,root):\n",
    "        if root is None: \n",
    "            return\n",
    "        # Crear una cola vacia para orden de nivel transversal\n",
    "        queue = [] \n",
    "        # Encolo raiz y sumo pesos\n",
    "        queue.append(root) \n",
    "    \n",
    "        while(len(queue) > 0): \n",
    "            # Imprimo y remuevo de cola\n",
    "            print (queue[0].data, end=\" \") \n",
    "            node = queue.pop(0) \n",
    "    \n",
    "            # Desencolo hizo derecho \n",
    "            if node.left is not None: \n",
    "                queue.append(node.left) \n",
    "    \n",
    "            # Desencolo hizo izquierdo\n",
    "            if node.right is not None: \n",
    "                queue.append(node.right) \n",
    "\n",
    "T=int(input())\n",
    "myTree=Solution()\n",
    "root=None\n",
    "for i in range(T):\n",
    "    data=int(input())\n",
    "    root=myTree.insert(root,data)\n",
    "myTree.levelOrder(root)\n"
   ]
  },
  {
   "cell_type": "code",
   "execution_count": null,
   "metadata": {},
   "outputs": [],
   "source": []
  }
 ],
 "metadata": {
  "kernelspec": {
   "display_name": "Python 3",
   "language": "python",
   "name": "python3"
  },
  "language_info": {
   "codemirror_mode": {
    "name": "ipython",
    "version": 3
   },
   "file_extension": ".py",
   "mimetype": "text/x-python",
   "name": "python",
   "nbconvert_exporter": "python",
   "pygments_lexer": "ipython3",
   "version": "3.7.3"
  }
 },
 "nbformat": 4,
 "nbformat_minor": 2
}
