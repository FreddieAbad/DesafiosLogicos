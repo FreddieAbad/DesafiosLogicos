{
 "cells": [
  {
   "cell_type": "markdown",
   "metadata": {},
   "source": [
    "# Dia 7"
   ]
  },
  {
   "cell_type": "code",
   "execution_count": 7,
   "metadata": {},
   "outputs": [
    {
     "name": "stdout",
     "output_type": "stream",
     "text": [
      "4\n",
      "1 2 3 4\n",
      "4 3 2 1\n"
     ]
    }
   ],
   "source": [
    "n=int(input())\n",
    "num=input()\n",
    "\n",
    "def imprimir(lista):\n",
    "    lista.reverse()\n",
    "    print(' '.join(map(str, lista)) )\n",
    "    \n",
    "bandera=0\n",
    "if(n>=1 or n<=1000):\n",
    "    lista=num.split()\n",
    "    lista = list(map(int, lista))\n",
    "    if(n==len(lista)):\n",
    "        for i in range(0,len(lista)):\n",
    "            if(lista[i]<1 or lista[i]>10000):\n",
    "                bandera+=1\n",
    "    else:\n",
    "        bandera+=1\n",
    "else:\n",
    "    bandera+=1\n",
    "    \n",
    "if (bandera==0):\n",
    "    imprimir(lista)\n",
    "                \n",
    "                "
   ]
  },
  {
   "cell_type": "markdown",
   "metadata": {},
   "source": [
    "# LISTO"
   ]
  },
  {
   "cell_type": "code",
   "execution_count": null,
   "metadata": {},
   "outputs": [],
   "source": []
  }
 ],
 "metadata": {
  "kernelspec": {
   "display_name": "Python 3",
   "language": "python",
   "name": "python3"
  },
  "language_info": {
   "codemirror_mode": {
    "name": "ipython",
    "version": 3
   },
   "file_extension": ".py",
   "mimetype": "text/x-python",
   "name": "python",
   "nbconvert_exporter": "python",
   "pygments_lexer": "ipython3",
   "version": "3.6.9"
  }
 },
 "nbformat": 4,
 "nbformat_minor": 2
}
