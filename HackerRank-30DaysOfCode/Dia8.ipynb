{
 "cells": [
  {
   "cell_type": "markdown",
   "metadata": {},
   "source": [
    "# Dia 8 "
   ]
  },
  {
   "cell_type": "code",
   "execution_count": 1,
   "metadata": {},
   "outputs": [
    {
     "name": "stdout",
     "output_type": "stream",
     "text": [
      "5\n",
      "\n",
      "0\n",
      "fasd 65123\n",
      "afsd 5632\n",
      "sd 653\n",
      "sdafasdf 563\n",
      "asdfas 65465\n",
      "asf\n",
      "Not found\n",
      "\n",
      "\n",
      "\n",
      "\n"
     ]
    }
   ],
   "source": [
    "import sys \n",
    "\n",
    "# Read input and assemble Phone Book\n",
    "n = int(input())\n",
    "phoneBook = {}\n",
    "for i in range(n):\n",
    "    contact = input().split(' ')\n",
    "    phoneBook[contact[0]] = contact[1]\n",
    "\n",
    "# Process Queries\n",
    "lines = sys.stdin.readlines()\n",
    "for i in lines:\n",
    "    name = i.strip()\n",
    "    if name in phoneBook:\n",
    "        print(name + '=' + str( phoneBook[name] ))\n",
    "    else:\n",
    "        print('Not found')"
   ]
  },
  {
   "cell_type": "code",
   "execution_count": null,
   "metadata": {},
   "outputs": [],
   "source": []
  }
 ],
 "metadata": {
  "kernelspec": {
   "display_name": "Python 3",
   "language": "python",
   "name": "python3"
  },
  "language_info": {
   "codemirror_mode": {
    "name": "ipython",
    "version": 3
   },
   "file_extension": ".py",
   "mimetype": "text/x-python",
   "name": "python",
   "nbconvert_exporter": "python",
   "pygments_lexer": "ipython3",
   "version": "3.6.9"
  }
 },
 "nbformat": 4,
 "nbformat_minor": 2
}
