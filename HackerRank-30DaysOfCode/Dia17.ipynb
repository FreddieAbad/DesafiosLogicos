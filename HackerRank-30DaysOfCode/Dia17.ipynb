{
 "cells": [
  {
   "cell_type": "code",
   "execution_count": 1,
   "metadata": {},
   "outputs": [
    {
     "name": "stdout",
     "output_type": "stream",
     "text": [
      "10\n",
      "10 0\n",
      "n and p should be non-negative\n",
      "0 10\n",
      "n and p should be non-negative\n",
      "-1 4\n",
      "n and p should be non-negative\n",
      "2 -3\n",
      "n and p should be non-negative\n",
      "-2 -2\n",
      "n and p should be non-negative\n",
      "5 6\n",
      "15625\n",
      "3 3\n",
      "27\n",
      "8 0\n",
      "n and p should be non-negative\n",
      "2 3\n",
      "8\n",
      "3 -3\n",
      "n and p should be non-negative\n"
     ]
    }
   ],
   "source": [
    "class Calculator():\n",
    "    def power(self,a,b):\n",
    "        if(a>=0 and b>=0):\n",
    "            return a ** b\n",
    "        else:\n",
    "            return 'n and p should be non-negative'\n",
    "\n",
    "myCalculator=Calculator()\n",
    "T=int(input())\n",
    "for i in range(T):\n",
    "    n,p = map(int, input().split())\n",
    "    try:\n",
    "        ans=myCalculator.power(n,p)\n",
    "        print(ans)\n",
    "    except Exception as e:\n",
    "        print(e)   "
   ]
  },
  {
   "cell_type": "code",
   "execution_count": null,
   "metadata": {},
   "outputs": [],
   "source": []
  }
 ],
 "metadata": {
  "kernelspec": {
   "display_name": "Python 3",
   "language": "python",
   "name": "python3"
  },
  "language_info": {
   "codemirror_mode": {
    "name": "ipython",
    "version": 3
   },
   "file_extension": ".py",
   "mimetype": "text/x-python",
   "name": "python",
   "nbconvert_exporter": "python",
   "pygments_lexer": "ipython3",
   "version": "3.7.3"
  }
 },
 "nbformat": 4,
 "nbformat_minor": 2
}
